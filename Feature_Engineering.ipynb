{
  "nbformat": 4,
  "nbformat_minor": 0,
  "metadata": {
    "colab": {
      "provenance": []
    },
    "kernelspec": {
      "name": "python3",
      "display_name": "Python 3"
    },
    "language_info": {
      "name": "python"
    }
  },
  "cells": [
    {
      "cell_type": "markdown",
      "source": [
        "**1.What is a parameter?**\n",
        "\n",
        "**Answer:** A parameter is a variable that is used to pass information into a function, method, or procedure.\n",
        "\n",
        "In programming, parameters are defined in a function's definition and act as placeholders for the actual values (called arguments) that will be passed in when the function is called."
      ],
      "metadata": {
        "id": "sK1y93gSSEvj"
      }
    },
    {
      "cell_type": "code",
      "source": [
        "def greet(name):\n",
        "    print(\"Hello, \" + name)"
      ],
      "metadata": {
        "id": "k6KcwywOTBDz"
      },
      "execution_count": null,
      "outputs": []
    },
    {
      "cell_type": "markdown",
      "source": [
        "\n",
        "\n",
        "---\n",
        "\n"
      ],
      "metadata": {
        "id": "h_lw5YOYT0N8"
      }
    },
    {
      "cell_type": "markdown",
      "source": [
        "**2.What is correlation?**\n",
        "**What does negative correlation mean?**\n",
        "\n",
        "**Answer:** Correlation is a statistical measure that describes the strength and direction of a relationship between two variables.\n",
        "\n",
        "It tells you whether, and how strongly, two variables move together.\n",
        "\n",
        "The most common type is Pearson correlation, which measures linear relationships.\n",
        "\n",
        "The correlation value (called the correlation coefficient, usually denoted as r) ranges between:"
      ],
      "metadata": {
        "id": "V_-TMFvAT2cM"
      }
    },
    {
      "cell_type": "markdown",
      "source": [
        "A negative correlation means that as one variable increases, the other decreases, and vice versa.\n",
        "\n",
        "Example:\n",
        "The more time you spend watching TV, the lower your test scores might be → this shows a negative correlation.\n",
        "\n",
        "If r = –0.85, that means there is a strong negative relationship."
      ],
      "metadata": {
        "id": "-RugJZl1UKI-"
      }
    },
    {
      "cell_type": "markdown",
      "source": [
        "\n",
        "\n",
        "---\n",
        "\n"
      ],
      "metadata": {
        "id": "4ANJm1jNUMXj"
      }
    },
    {
      "cell_type": "markdown",
      "source": [
        "**3.Define Machine Learning. What are the main components in Machine Learning?**\n",
        "\n",
        "**Answer: **\n",
        "\n",
        "Machine Learning (ML) is a branch of artificial intelligence (AI) that focuses on creating systems that can learn from data and improve their performance over time without being explicitly programmed.\n",
        "\n",
        "Instead of writing rules manually, we give the machine data + goals, and it figures out patterns or makes predictions on its own."
      ],
      "metadata": {
        "id": "vm-pOCUwUOR1"
      }
    },
    {
      "cell_type": "markdown",
      "source": [
        "**Main Components in Machine Learning:**\n",
        "\n",
        "**1. Data**\n",
        "\n",
        "Raw information used for training the model.\n",
        "\n",
        "Could be numbers, images, text, or any measurable input.\n",
        "\n",
        "**Features**\n",
        "\n",
        "Specific variables or characteristics in the data used for making predictions.\n",
        "\n",
        "For example, in predicting house prices: square footage, number of rooms, location, etc.\n",
        "\n",
        "**Model**\n",
        "\n",
        "The algorithm or function that learns from data.\n",
        "\n",
        "Examples: linear regression, decision trees, neural networks.\n",
        "\n",
        "**Training**\n",
        "\n",
        "The process of feeding data to a model so it can learn patterns.\n",
        "\n",
        "The model adjusts its internal parameters to minimize error.\n",
        "\n",
        "Labels (in supervised learning)\n",
        "\n",
        "The correct answers used during training (e.g., “this email is spam”).\n",
        "\n",
        "Not always needed (e.g., in unsupervised learning).\n",
        "\n",
        "**Loss Function**\n",
        "\n",
        "A mathematical function that measures how far off the model’s predictions are from the actual results.\n",
        "\n",
        "The model tries to minimize this error.\n",
        "\n",
        "Optimizer\n",
        "\n",
        "Algorithm used to adjust the model's internal settings (weights/parameters) to reduce the loss.\n",
        "\n",
        "Example: gradient descent.\n",
        "\n",
        "**Evaluation**\n",
        "\n",
        "After training, the model is tested on new (unseen) data to measure its performance.\n",
        "\n",
        "Metrics like accuracy, precision, recall, or RMSE are used."
      ],
      "metadata": {
        "id": "qD_y0TiBVJ2L"
      }
    },
    {
      "cell_type": "markdown",
      "source": [
        "\n",
        "\n",
        "---\n",
        "\n"
      ],
      "metadata": {
        "id": "k-Po_Zu4VpSC"
      }
    },
    {
      "cell_type": "markdown",
      "source": [
        "**4. How does loss value help in determining whether the model is good or not?**\n",
        "\n",
        "**Answer:** The loss value is a key indicator of how well (or poorly) a machine learning model is performing during training.\n",
        "\n",
        "It measures the difference between the model’s predictions and the actual values (ground truth).\n",
        "\n",
        "The goal of training is to minimize the loss.\n",
        "\n",
        "A lower loss means the model's predictions are closer to the true values.\n",
        "\n",
        "**Performance Indicator:**\n",
        "\n",
        "If the loss is high, it means the model is making large errors.\n",
        "\n",
        "If the loss is low, the model is performing well on the training data.\n",
        "\n",
        "**Guides Learning:**\n",
        "\n",
        "The loss value is used by the optimizer (like gradient descent) to update the model’s parameters.\n",
        "\n",
        "The model learns by minimizing the loss step-by-step.\n",
        "\n",
        "**Helps Detect Overfitting or Underfitting:**\n",
        "\n",
        "Training loss low, validation loss high → model is overfitting (memorizing training data).\n",
        "\n",
        "Both losses high → model is underfitting (too simple or not trained enough).\n",
        "\n"
      ],
      "metadata": {
        "id": "0MJ5COvXVqnI"
      }
    },
    {
      "cell_type": "markdown",
      "source": [
        "\n",
        "\n",
        "---\n",
        "\n"
      ],
      "metadata": {
        "id": "7CWR7jM1V9zA"
      }
    },
    {
      "cell_type": "markdown",
      "source": [
        "**5. What are continuous and categorical variables?**\n",
        "\n",
        "**Answer:**\n",
        "\n",
        "**1.Continuous Variables**\n",
        "\n",
        "Variables that can take any numeric value within a range.\n",
        "\n",
        "They are measurable and often include decimals.\n",
        "\n",
        "The number of possible values is infinite within the range.\n",
        "\n",
        "Examples:\n",
        "Height (e.g., 170.5 cm)\n",
        "\n",
        "Weight (e.g., 68.2 kg)\n",
        "\n",
        "Temperature (e.g., 36.6°C)\n",
        "\n",
        "Time, distance, salary\n",
        "\n",
        "**2.Categorical Variables**\n",
        "\n",
        "Variables that represent categories or groups.\n",
        "\n",
        "They take on a limited number of distinct values.\n",
        "\n",
        "These values are labels or names, not numbers used for arithmetic.\n",
        "\n",
        "**Types:**\n",
        "Nominal: No order (e.g., colors: red, blue, green)\n",
        "\n",
        "Ordinal: Has a meaningful order (e.g., small, medium, large)\n",
        "\n",
        "**Examples:**\n",
        "Gender (Male, Female)\n",
        "\n",
        "Car brand (Toyota, Ford, BMW)\n",
        "\n",
        "Education level (High School, Bachelor’s, Master’s)\n",
        "\n",
        "Yes/No answers\n",
        "\n"
      ],
      "metadata": {
        "id": "vEI-OMdsWLTt"
      }
    },
    {
      "cell_type": "markdown",
      "source": [
        "\n",
        "\n",
        "---\n",
        "\n"
      ],
      "metadata": {
        "id": "fFrwZI0HWr8M"
      }
    },
    {
      "cell_type": "markdown",
      "source": [
        "**6.How do we handle categorical variables in Machine Learning? What are the common techniques?**\n",
        "\n",
        "**Answer:**  \n",
        "\n",
        "Most machine learning algorithms work with numerical data, so categorical variables must be converted into numbers before being used to train models.\n",
        "\n",
        "Common Techniques to Handle Categorical Variables:\n",
        "\n",
        "**1.Label Encoding**\n",
        "\n",
        "Converts each category into a unique integer.\n",
        "\n",
        "Simple and memory-efficient.\n",
        "\n",
        "**2. One-Hot Encoding**\n",
        "\n",
        "Creates a binary (0/1) column for each category.\n",
        "\n",
        "Each row has a 1 in the column for its category and 0 in all others.\n",
        "\n",
        "**3. Ordinal Encoding**\n",
        "\n",
        "Similar to label encoding, but used when the categories have a clear order.\n",
        "\n",
        "**4. Target Encoding (a.k.a. Mean Encoding)**\n",
        "\n",
        "Replace categories with the average value of the target variable for that category.\n",
        "\n",
        "5**. Frequency Encoding**\n",
        "\n",
        "Replace categories with the count or frequency of each one."
      ],
      "metadata": {
        "id": "iCq754meWtQh"
      }
    },
    {
      "cell_type": "markdown",
      "source": [
        "\n",
        "\n",
        "---\n",
        "\n"
      ],
      "metadata": {
        "id": "iLF4ghcaZIj0"
      }
    },
    {
      "cell_type": "markdown",
      "source": [
        "**7. What do you mean by training and testing a dataset?**\n",
        "\n",
        "**Answer:**\n",
        "\n",
        "In machine learning, we split our data into two (or more) parts to evaluate how well our model performs on unseen data. These parts are called the training set and the testing set.\n",
        "\n",
        "**Training Dataset**\n",
        "\n",
        "This is the portion of data used to train the model.\n",
        "\n",
        "The model learns patterns from this data by adjusting its internal parameters.\n",
        "\n",
        "It includes both the input features and the target labels (in supervised learning).\n",
        "\n",
        "**Testing Dataset**\n",
        "\n",
        "This is a separate portion of the data used to evaluate the model after training.\n",
        "\n",
        "The model makes predictions on this data, and we compare them with the actual values to check accuracy, error, etc.\n",
        "\n",
        "The model has never seen this data before.\n",
        "\n"
      ],
      "metadata": {
        "id": "e07tdo4gZJ85"
      }
    },
    {
      "cell_type": "markdown",
      "source": [
        "\n",
        "\n",
        "---\n",
        "\n"
      ],
      "metadata": {
        "id": "uIqqWyv-Zxvt"
      }
    },
    {
      "cell_type": "markdown",
      "source": [
        "**8. What is sklearn.preprocessing?**\n",
        "\n",
        "**Answer:**\n",
        "\n",
        "sklearn.preprocessing is a module in the Scikit-learn library (sklearn) that provides tools to prepare and transform data before feeding it into a machine learning model.\n",
        "\n",
        "Most machine learning models assume clean, numeric, and scaled data.\n",
        "sklearn.preprocessing helps you:\n",
        "\n",
        "Clean the data\n",
        "\n",
        "Normalize or scale values\n",
        "\n",
        "Encode categorical features\n",
        "\n",
        "Handle missing values, etc."
      ],
      "metadata": {
        "id": "CZDRqWTead2G"
      }
    },
    {
      "cell_type": "code",
      "source": [
        "# from sklearn.preprocessing import StandardScaler\n",
        "\n",
        "data = [[1, 2], [3, 4], [5, 6]]\n",
        "scaler = StandardScaler()\n",
        "scaled_data = scaler.fit_transform(data)\n",
        "\n",
        "print(scaled_data)\n"
      ],
      "metadata": {
        "colab": {
          "base_uri": "https://localhost:8080/"
        },
        "id": "lOfVmgd4_F2D",
        "outputId": "fc4f314c-dd18-4dc3-f79c-5d1a3940f91f"
      },
      "execution_count": null,
      "outputs": [
        {
          "output_type": "stream",
          "name": "stdout",
          "text": [
            "[[-1.22474487 -1.22474487]\n",
            " [ 0.          0.        ]\n",
            " [ 1.22474487  1.22474487]]\n"
          ]
        }
      ]
    },
    {
      "cell_type": "markdown",
      "source": [
        "\n",
        "\n",
        "---\n",
        "\n"
      ],
      "metadata": {
        "id": "nGnDiz8hAt0y"
      }
    },
    {
      "cell_type": "markdown",
      "source": [
        "**9. What is a Test set?**\n",
        "\n",
        "**Answer:**  \n",
        "\n",
        "A test set is a subset of your dataset that is used to evaluate the final performance of a trained machine learning model.\n",
        "\n",
        "**Purpose:**\n",
        "\n",
        "To check how well the model generalizes to new, unseen data.\n",
        "\n",
        "It acts like a final exam after the model has completed training.\n",
        "\n",
        "The model is never allowed to see this data during training.\n",
        "\n",
        "**Typical Workflow:**\n",
        "\n",
        "**Split your dataset into:**\n",
        "\n",
        "Training set – for learning (usually 70–80%)\n",
        "\n",
        "Test set – for evaluation (usually 20–30%)\n",
        "\n",
        "Train the model on the training set.\n",
        "\n",
        "Test the model on the test set and calculate metrics like:\n",
        "\n",
        "**Accuracy**\n",
        "\n",
        "Precision, Recall, F1-score\n",
        "\n",
        "Mean Squared Error (for regression)\n",
        "\n",
        "etc.\n",
        "\n",
        "\n"
      ],
      "metadata": {
        "id": "GN-nGGOCAvWT"
      }
    },
    {
      "cell_type": "markdown",
      "source": [
        "\n",
        "\n",
        "---\n",
        "\n"
      ],
      "metadata": {
        "id": "0E9EOf51CPto"
      }
    },
    {
      "cell_type": "markdown",
      "source": [
        "**10. How do we split data for model fitting (training and testing) in Python?**\n",
        "**How do you approach a Machine Learning problem? **\n",
        "\n",
        "\n",
        "**Answer:**\n",
        "\n",
        "In Python, the most common way to split data into training and testing sets is using train_test_split from sklearn.model_selection.\n"
      ],
      "metadata": {
        "id": "q1ZBoBsZCQ_Y"
      }
    },
    {
      "cell_type": "code",
      "source": [
        "from sklearn.model_selection import train_test_split\n",
        "\n",
        "# Suppose X is your features and y is your target\n",
        "X_train, X_test, y_train, y_test = train_test_split(X, y, test_size=0.2, random_state=42)\n",
        "\n",
        "print(\"Shape of X_train:\", X_train.shape)\n",
        "print(\"Shape of X_test:\", X_test.shape)\n",
        "print(\"Shape of y_train:\", y_train.shape)\n",
        "print(\"Shape of y_test:\", y_test.shape)"
      ],
      "metadata": {
        "colab": {
          "base_uri": "https://localhost:8080/",
          "height": 211
        },
        "id": "yVnfbU4wCs93",
        "outputId": "36365197-45df-4395-8d17-9194fd6a6884"
      },
      "execution_count": null,
      "outputs": [
        {
          "output_type": "error",
          "ename": "NameError",
          "evalue": "name 'X' is not defined",
          "traceback": [
            "\u001b[0;31m---------------------------------------------------------------------------\u001b[0m",
            "\u001b[0;31mNameError\u001b[0m                                 Traceback (most recent call last)",
            "\u001b[0;32m/tmp/ipython-input-10-1164350485.py\u001b[0m in \u001b[0;36m<cell line: 0>\u001b[0;34m()\u001b[0m\n\u001b[1;32m      2\u001b[0m \u001b[0;34m\u001b[0m\u001b[0m\n\u001b[1;32m      3\u001b[0m \u001b[0;31m# Suppose X is your features and y is your target\u001b[0m\u001b[0;34m\u001b[0m\u001b[0;34m\u001b[0m\u001b[0m\n\u001b[0;32m----> 4\u001b[0;31m \u001b[0mX_train\u001b[0m\u001b[0;34m,\u001b[0m \u001b[0mX_test\u001b[0m\u001b[0;34m,\u001b[0m \u001b[0my_train\u001b[0m\u001b[0;34m,\u001b[0m \u001b[0my_test\u001b[0m \u001b[0;34m=\u001b[0m \u001b[0mtrain_test_split\u001b[0m\u001b[0;34m(\u001b[0m\u001b[0mX\u001b[0m\u001b[0;34m,\u001b[0m \u001b[0my\u001b[0m\u001b[0;34m,\u001b[0m \u001b[0mtest_size\u001b[0m\u001b[0;34m=\u001b[0m\u001b[0;36m0.2\u001b[0m\u001b[0;34m,\u001b[0m \u001b[0mrandom_state\u001b[0m\u001b[0;34m=\u001b[0m\u001b[0;36m42\u001b[0m\u001b[0;34m)\u001b[0m\u001b[0;34m\u001b[0m\u001b[0;34m\u001b[0m\u001b[0m\n\u001b[0m\u001b[1;32m      5\u001b[0m \u001b[0;34m\u001b[0m\u001b[0m\n\u001b[1;32m      6\u001b[0m \u001b[0mprint\u001b[0m\u001b[0;34m(\u001b[0m\u001b[0;34m\"Shape of X_train:\"\u001b[0m\u001b[0;34m,\u001b[0m \u001b[0mX_train\u001b[0m\u001b[0;34m.\u001b[0m\u001b[0mshape\u001b[0m\u001b[0;34m)\u001b[0m\u001b[0;34m\u001b[0m\u001b[0;34m\u001b[0m\u001b[0m\n",
            "\u001b[0;31mNameError\u001b[0m: name 'X' is not defined"
          ]
        }
      ]
    },
    {
      "cell_type": "markdown",
      "source": [
        "\n",
        "\n",
        "---\n",
        "\n"
      ],
      "metadata": {
        "id": "ilQZAiLeEpwh"
      }
    },
    {
      "cell_type": "markdown",
      "source": [
        "**Approach a Machine Learning Problem**\n",
        "\n",
        "**1. Understand the Problem**\n",
        "\n",
        "What is the goal? (classification, regression, clustering?)\n",
        "\n",
        "What is the target variable?\n",
        "\n",
        "What does success look like? (Accuracy? Low error?)\n",
        "\n",
        "**2. Collect and Explore the Data**\n",
        "\n",
        "Load data (CSV, database, API, etc.)\n",
        "\n",
        "Look at shapes, missing values, and distributions\n",
        "\n",
        "Visualize with histograms, scatterplots, heatmaps, etc.\n",
        "\n",
        "**3. Preprocess the Data**\n",
        "\n",
        "Handle missing values\n",
        "\n",
        "Encode categorical variables (e.g., OneHot, Label Encoding)\n",
        "\n",
        "Scale/normalize features (StandardScaler, MinMaxScaler)\n",
        "\n",
        "Split into training and test sets\n",
        "\n",
        "**4. Choose a Model**\n",
        "\n",
        "Classification → Logistic Regression, Decision Tree, Random Forest, etc.\n",
        "\n",
        "Regression → Linear Regression, SVR, etc.\n",
        "\n",
        "Use baseline models first, then more complex ones\n",
        "\n",
        "\n",
        "\n"
      ],
      "metadata": {
        "id": "uRIDgrNlEq5Z"
      }
    },
    {
      "cell_type": "markdown",
      "source": [
        "** 5.Train the Model**\n",
        "\n"
      ],
      "metadata": {
        "id": "xg2Kj4mnFsKG"
      }
    },
    {
      "cell_type": "code",
      "source": [
        "model.fit(X_train, y_train)"
      ],
      "metadata": {
        "id": "oshCLdE0bH1V"
      },
      "execution_count": null,
      "outputs": []
    },
    {
      "cell_type": "markdown",
      "source": [
        "**6. Evaluate the Model**"
      ],
      "metadata": {
        "id": "HdIVKtqmGAgT"
      }
    },
    {
      "cell_type": "code",
      "source": [
        "y_pred = model.predict(X_test)\n"
      ],
      "metadata": {
        "id": "aYcRTqb5GGV9"
      },
      "execution_count": null,
      "outputs": []
    },
    {
      "cell_type": "code",
      "source": [
        "Use metrics:\n",
        "\n",
        "Classification: accuracy, precision, recall, F1\n",
        "\n",
        "Regression: MSE, RMSE, R²"
      ],
      "metadata": {
        "id": "wN92JD0nbHyR"
      },
      "execution_count": null,
      "outputs": []
    },
    {
      "cell_type": "markdown",
      "source": [
        "**7. Improve the Model**\n",
        "\n",
        "Tune hyperparameters (e.g., with GridSearchCV)\n",
        "\n",
        "Feature selection/engineering\n",
        "\n",
        "Try different models\n",
        "\n",
        "Use cross-validation\n",
        "\n",
        "**8. Deploy (Optional)**\n",
        "\n",
        "Save the model with joblib or pickle\n",
        "\n",
        "Integrate into an app or API\n"
      ],
      "metadata": {
        "id": "7kdEPH5HGO2F"
      }
    },
    {
      "cell_type": "markdown",
      "source": [
        "\n",
        "\n",
        "---\n",
        "\n"
      ],
      "metadata": {
        "id": "urYle-N-Geh4"
      }
    },
    {
      "cell_type": "markdown",
      "source": [
        "**11. Why do we have to perform EDA before fitting a model to the data?**\n",
        "\n",
        "**Answer:**\n",
        "\n",
        "EDA (Exploratory Data Analysis) is a crucial first step in any machine learning or data science project.\n",
        "It helps you understand your data before using it to train a model.\n",
        "\n",
        "EDA involves visualizing, summarizing, and inspecting your data to uncover:\n",
        "\n",
        "Structure\n",
        "\n",
        "Patterns\n",
        "\n",
        "Relationships\n",
        "\n",
        "Anomalies\n",
        "\n",
        "Data quality issues\n",
        "\n",
        "**1. Understand the Dataset**\n",
        "\n",
        "Know what each feature means\n",
        "\n",
        "Spot which features might be most useful\n",
        "\n",
        "Identify the target variable clearly\n",
        "\n",
        "**2. Detect Missing or Invalid Data**\n",
        "\n",
        "Missing values? Wrong formats? Duplicates?\n",
        "\n",
        "You can’t fit a model well if the data has hidden errors\n",
        "\n",
        "**3. Uncover Relationships**\n",
        "\n",
        "See how variables relate to each other and to the target\n",
        "\n",
        "Helps with feature selection and engineering\n",
        "\n",
        "**4. Spot Outliers**\n",
        "\n",
        "Outliers can distort model training\n",
        "\n",
        "EDA helps identify and handle them appropriately\n",
        "\n",
        "**5. Choose the Right Model or Approach**\n",
        "\n",
        "E.g., is the target variable continuous or categorical?\n",
        "\n",
        "Are features normally distributed? Linearly related?\n",
        "\n",
        "**6. Improve Model Performance**\n",
        "\n",
        "Better understanding leads to better preprocessing, which leads to better accuracy\n",
        "\n",
        "**7. Avoid Garbage In, Garbage Out**\n",
        "\n",
        "If you feed a model bad or unexamined data, you’ll get bad results—no matter how advanced the algorithm is.\n",
        "\n"
      ],
      "metadata": {
        "id": "5lask2KvGhOD"
      }
    },
    {
      "cell_type": "markdown",
      "source": [
        "\n",
        "\n",
        "---\n",
        "\n"
      ],
      "metadata": {
        "id": "EA0ONNopHwQ4"
      }
    },
    {
      "cell_type": "markdown",
      "source": [
        "**12. What is correlation?**\n",
        "\n",
        "**Answer:**\n",
        "\n",
        "Correlation is a statistical measure that describes the strength and direction of a relationship between two variables."
      ],
      "metadata": {
        "id": "aA54uEDBHx5N"
      }
    },
    {
      "cell_type": "code",
      "source": [
        "import pandas as pd\n",
        "import seaborn as sns\n",
        "import matplotlib.pyplot as plt\n",
        "\n",
        "# Sample data\n",
        "data = {\n",
        "    'Hours_Studied': [1, 2, 3, 4, 5],\n",
        "    'Exam_Score': [50, 55, 65, 70, 80],\n",
        "    'Sleep_Hours': [8, 7.5, 7, 6.5, 6]\n",
        "}\n",
        "\n",
        "# Create DataFrame\n",
        "df = pd.DataFrame(data)\n",
        "\n",
        "# Compute correlation matrix\n",
        "corr_matrix = df.corr()\n",
        "\n",
        "# Print correlation matrix\n",
        "print(\"Correlation Matrix:\")\n",
        "print(corr_matrix)\n",
        "\n",
        "# Visualize it using a heatmap\n",
        "sns.heatmap(corr_matrix, annot=True, cmap='coolwarm', linewidths=0.5)\n",
        "plt.title(\"Correlation Heatmap\")\n",
        "plt.show()\n"
      ],
      "metadata": {
        "colab": {
          "base_uri": "https://localhost:8080/",
          "height": 539
        },
        "id": "qLPRviUhILZj",
        "outputId": "7809ff75-d0c2-4aed-819b-81bf650546a1"
      },
      "execution_count": null,
      "outputs": [
        {
          "output_type": "stream",
          "name": "stdout",
          "text": [
            "Correlation Matrix:\n",
            "               Hours_Studied  Exam_Score  Sleep_Hours\n",
            "Hours_Studied       1.000000    0.993399    -1.000000\n",
            "Exam_Score          0.993399    1.000000    -0.993399\n",
            "Sleep_Hours        -1.000000   -0.993399     1.000000\n"
          ]
        },
        {
          "output_type": "display_data",
          "data": {
            "text/plain": [
              "<Figure size 640x480 with 2 Axes>"
            ],
            "image/png": "[encoded data removed]"
          },
          "metadata": {}
        }
      ]
    },
    {
      "cell_type": "markdown",
      "source": [
        "\n",
        "\n",
        "---\n",
        "\n"
      ],
      "metadata": {
        "id": "OHcUwqqzIUCs"
      }
    },
    {
      "cell_type": "markdown",
      "source": [
        "**13. What does negative correlation mean?**\n",
        "\n",
        "**Answer:**  \n",
        "\n",
        "A negative correlation means that as one variable increases, the other variable tends to decrease.\n",
        "\n",
        "Negative correlation means when one variable goes up, the other goes down.\n",
        "It indicates an inverse relationship between two variables."
      ],
      "metadata": {
        "id": "YyCWYHkJIVRv"
      }
    },
    {
      "cell_type": "markdown",
      "source": [
        "\n",
        "\n",
        "---\n",
        "\n"
      ],
      "metadata": {
        "id": "6YyM9gVuIz0O"
      }
    },
    {
      "cell_type": "markdown",
      "source": [
        "**14. How can you find correlation between variables in Python?**\n",
        "\n",
        "**Answer:**   In Python, you can find the correlation between variables using Pandas or NumPy. The most common method is to use pandas.DataFrame.corr()."
      ],
      "metadata": {
        "id": "Ld7kPAEYI1FG"
      }
    },
    {
      "cell_type": "code",
      "source": [
        "import pandas as pd\n",
        "\n",
        "# Sample data\n",
        "data = {\n",
        "    'Temperature': [30, 25, 20, 15, 10],\n",
        "    'IceCreamSales': [300, 250, 200, 150, 100]\n",
        "}\n",
        "\n",
        "df = pd.DataFrame(data)\n",
        "\n",
        "# Correlation matrix\n",
        "print(df.corr())\n"
      ],
      "metadata": {
        "colab": {
          "base_uri": "https://localhost:8080/"
        },
        "id": "30PuRXwwJLxA",
        "outputId": "fff8a251-35ca-4205-acb8-c14a224f032d"
      },
      "execution_count": null,
      "outputs": [
        {
          "output_type": "stream",
          "name": "stdout",
          "text": [
            "               Temperature  IceCreamSales\n",
            "Temperature            1.0            1.0\n",
            "IceCreamSales          1.0            1.0\n"
          ]
        }
      ]
    },
    {
      "cell_type": "code",
      "source": [
        "correlation = df['Temperature'].corr(df['IceCreamSales'])\n",
        "print(\"Correlation:\", correlation)\n"
      ],
      "metadata": {
        "colab": {
          "base_uri": "https://localhost:8080/"
        },
        "id": "1Q32LVBaJOit",
        "outputId": "a2c4b62c-bd8e-480f-e8b0-a2843ed2e8ac"
      },
      "execution_count": null,
      "outputs": [
        {
          "output_type": "stream",
          "name": "stdout",
          "text": [
            "Correlation: 1.0\n"
          ]
        }
      ]
    },
    {
      "cell_type": "code",
      "source": [
        "import numpy as np\n",
        "\n",
        "x = df['Temperature']\n",
        "y = df['IceCreamSales']\n",
        "\n",
        "corr_matrix = np.corrcoef(x, y)\n",
        "print(corr_matrix)\n"
      ],
      "metadata": {
        "colab": {
          "base_uri": "https://localhost:8080/"
        },
        "id": "4od_W2ULGgRL",
        "outputId": "d8e8c993-488d-4af7-b73b-0328b69b7214"
      },
      "execution_count": null,
      "outputs": [
        {
          "output_type": "stream",
          "name": "stdout",
          "text": [
            "[[1. 1.]\n",
            " [1. 1.]]\n"
          ]
        }
      ]
    },
    {
      "cell_type": "code",
      "source": [
        "import seaborn as sns\n",
        "import matplotlib.pyplot as plt\n",
        "\n",
        "sns.heatmap(df.corr(), annot=True, cmap='coolwarm')\n",
        "plt.title(\"Correlation Heatmap\")\n",
        "plt.show()\n"
      ],
      "metadata": {
        "colab": {
          "base_uri": "https://localhost:8080/",
          "height": 452
        },
        "id": "NUREYDXTJhad",
        "outputId": "c4da2bfd-dc0d-40cf-927c-123cb2a45931"
      },
      "execution_count": null,
      "outputs": [
        {
          "output_type": "display_data",
          "data": {
            "text/plain": [
              "<Figure size 640x480 with 2 Axes>"
            ],
            "image/png": "[encoded data removed]"
          },
          "metadata": {}
        }
      ]
    },
    {
      "cell_type": "markdown",
      "source": [
        "\n",
        "\n",
        "---\n",
        "\n"
      ],
      "metadata": {
        "id": "rv3-pUqlJmTA"
      }
    },
    {
      "cell_type": "markdown",
      "source": [
        "**15. What is causation? Explain difference between correlation and causation with an example?**\n",
        "\n",
        "**Answer:**  Causation means that one variable directly affects or causes a change in another variable.\n",
        "\n",
        "In simple terms:\n",
        "\n",
        "Correlation is when two variables move together.\n",
        "Causation is when one variable produces a change in another.\n",
        "\n",
        "Just because two things are correlated does not mean one causes the other.\n",
        "To prove causation, you often need experiments, controlled trials, or domain knowledge."
      ],
      "metadata": {
        "id": "dV3jgjFhJnK9"
      }
    },
    {
      "cell_type": "markdown",
      "source": [
        "\n",
        "\n",
        "---\n",
        "\n"
      ],
      "metadata": {
        "id": "2JU7OjA7KF7O"
      }
    },
    {
      "cell_type": "markdown",
      "source": [
        "**16. What is an Optimizer? What are different types of optimizers? Explain each with an example?**\n",
        "\n",
        "**Answer:**\n",
        "\n",
        "An optimizer is an algorithm used to adjust the weights of a neural network to minimize the loss function and improve the model’s performance during training.\n",
        "\n",
        "**1. Gradient Descent (GD)**\n",
        "\n",
        "Updates all weights using the entire dataset.\n",
        "\n",
        "Good for understanding, but slow for large datasets.\n",
        "\n",
        "**2. Stochastic Gradient Descent (SGD)**\n",
        "\n",
        "Updates weights for each training example.\n",
        "\n",
        "Faster, but may bounce around the minimum.\n",
        "\n",
        "**3. Mini-batch Gradient Descent**\n",
        "\n",
        "A compromise: updates weights on small batches of data.\n",
        "\n",
        "Used in most modern training systems.\n",
        "\n",
        "Not a separate class in libraries — it's a behavior controlled by batch_size during model.fit()\n",
        "\n",
        "**4. Momentum**\n",
        "\n",
        "Helps speed up SGD by accelerating in the right direction.\n",
        "\n",
        "Reduces oscillation.\n",
        "\n",
        "**5. RMSProp (Root Mean Square Propagation)**\n",
        "\n",
        "Adjusts learning rate for each parameter.\n",
        "\n",
        "Good for non-stationary objectives (e.g., time series).\n",
        "\n",
        "\n",
        "**6. Adam (Adaptive Moment Estimation)  Most Popular**\n",
        "\n",
        "Combines Momentum + RMSProp.\n",
        "Fast convergence and works well in most cases\n",
        "\n",
        "**7. Adagrad / Adadelta**\n",
        "\n",
        "Adapt learning rate per parameter.\n",
        "\n",
        "Better for sparse data (like text or NLP tasks).\n"
      ],
      "metadata": {
        "id": "pO2gMeh6KHc8"
      }
    },
    {
      "cell_type": "markdown",
      "source": [
        "**17. What is sklearn.linear_model ?**\n",
        "\n",
        "**Answer:**\n",
        "\n",
        "sklearn.linear_model is a module in Scikit-learn that provides classes and functions for linear models — models that assume a linear relationship between input features and the target variable.\n",
        "\n"
      ],
      "metadata": {
        "id": "zW29eyxjLps2"
      }
    },
    {
      "cell_type": "code",
      "source": [
        "# Example: Linear Regression\n",
        "\n",
        "from sklearn.linear_model import LinearRegression\n",
        "from sklearn.model_selection import train_test_split\n",
        "\n",
        "# Sample data\n",
        "X = [[1], [2], [3], [4]]\n",
        "y = [2, 4, 6, 8]\n",
        "\n",
        "# Create model\n",
        "model = LinearRegression()\n",
        "\n",
        "# Train model\n",
        "model.fit(X, y)\n",
        "\n",
        "# Predict\n",
        "predictions = model.predict([[5]])\n",
        "print(predictions)  # Output: [10.]\n"
      ],
      "metadata": {
        "colab": {
          "base_uri": "https://localhost:8080/"
        },
        "id": "l2X0Pj5mM8gL",
        "outputId": "d896947c-f3e6-4315-db1a-8b7044056a75"
      },
      "execution_count": null,
      "outputs": [
        {
          "output_type": "stream",
          "name": "stdout",
          "text": [
            "[10.]\n"
          ]
        }
      ]
    },
    {
      "cell_type": "markdown",
      "source": [
        "\n",
        "\n",
        "---\n",
        "\n"
      ],
      "metadata": {
        "id": "6ZHP5PlbNTzt"
      }
    },
    {
      "cell_type": "markdown",
      "source": [
        "**18. What does model.fit() do? What arguments must be given?**\n",
        "\n",
        "**Answer:**\n",
        "\n",
        "model.fit() is the method used to train a machine learning model in most ML libraries like Scikit-learn and TensorFlow.\n",
        "\n",
        "\"Fit\" means learn — it trains the model on the given data by:\n",
        "\n",
        "Taking the input features (X)\n",
        "\n",
        "Matching them to the target values (y)\n",
        "\n",
        "Adjusting the model’s internal parameters (like weights)\n",
        "\n",
        "\n",
        "\n"
      ],
      "metadata": {
        "id": "BRf3SyJTNVcF"
      }
    },
    {
      "cell_type": "markdown",
      "source": [
        "\n",
        "\n",
        "---\n",
        "\n"
      ],
      "metadata": {
        "id": "8FyIJlDoOX4F"
      }
    },
    {
      "cell_type": "markdown",
      "source": [
        "**19. What does model.predict() do? What arguments must be given?**\n",
        "\n",
        "**Answer:**\n",
        "\n",
        "The .predict() method is used to make predictions using a trained machine learning model.\n",
        "\n",
        "\n",
        "After a model is trained using .fit(), you use .predict() to:\n",
        "\n",
        "Estimate or classify the output for new (unseen) input data."
      ],
      "metadata": {
        "id": "K67MR-E5OZOK"
      }
    },
    {
      "cell_type": "code",
      "source": [
        "X_test = [[5], [10]]\n",
        "\n",
        "predictions = model.predict(X_test)\n",
        "print(predictions)  # e.g., [10.1, 20.2]\n"
      ],
      "metadata": {
        "colab": {
          "base_uri": "https://localhost:8080/"
        },
        "id": "P2m0ZgzcQT1X",
        "outputId": "59e0ca55-0ac1-473c-9526-64e1b43dc3c8"
      },
      "execution_count": null,
      "outputs": [
        {
          "output_type": "stream",
          "name": "stdout",
          "text": [
            "[10. 20.]\n"
          ]
        }
      ]
    },
    {
      "cell_type": "code",
      "source": [
        "# For classification\n",
        "from sklearn.linear_model import LogisticRegression\n",
        "# Assuming X_train, y_train, and X_test are defined (e.g., from train_test_split)\n",
        "# If not, you would need to define sample data here as well.\n",
        "# Example:\n",
        "# import numpy as np\n",
        "# X_train = np.random.rand(80, 5) # 80 samples, 5 features for training\n",
        "# y_train = np.random.randint(0, 2, 80) # 80 samples, binary labels for training\n",
        "# X_test = np.random.rand(20, 5) # 20 samples, 5 features for testing\n",
        "\n",
        "\n",
        "clf = LogisticRegression()\n",
        "clf.fit(X_train, y_train)\n",
        "y_pred = clf.predict(X_test)\n",
        "print(y_pred)"
      ],
      "metadata": {
        "colab": {
          "base_uri": "https://localhost:8080/",
          "height": 211
        },
        "id": "aQoAzjREQou8",
        "outputId": "4d4d4b7e-fb1b-491f-9a04-d393824d3575"
      },
      "execution_count": null,
      "outputs": [
        {
          "output_type": "error",
          "ename": "NameError",
          "evalue": "name 'X_train' is not defined",
          "traceback": [
            "\u001b[0;31m---------------------------------------------------------------------------\u001b[0m",
            "\u001b[0;31mNameError\u001b[0m                                 Traceback (most recent call last)",
            "\u001b[0;32m/tmp/ipython-input-31-3487609805.py\u001b[0m in \u001b[0;36m<cell line: 0>\u001b[0;34m()\u001b[0m\n\u001b[1;32m     11\u001b[0m \u001b[0;34m\u001b[0m\u001b[0m\n\u001b[1;32m     12\u001b[0m \u001b[0mclf\u001b[0m \u001b[0;34m=\u001b[0m \u001b[0mLogisticRegression\u001b[0m\u001b[0;34m(\u001b[0m\u001b[0;34m)\u001b[0m\u001b[0;34m\u001b[0m\u001b[0;34m\u001b[0m\u001b[0m\n\u001b[0;32m---> 13\u001b[0;31m \u001b[0mclf\u001b[0m\u001b[0;34m.\u001b[0m\u001b[0mfit\u001b[0m\u001b[0;34m(\u001b[0m\u001b[0mX_train\u001b[0m\u001b[0;34m,\u001b[0m \u001b[0my_train\u001b[0m\u001b[0;34m)\u001b[0m\u001b[0;34m\u001b[0m\u001b[0;34m\u001b[0m\u001b[0m\n\u001b[0m\u001b[1;32m     14\u001b[0m \u001b[0my_pred\u001b[0m \u001b[0;34m=\u001b[0m \u001b[0mclf\u001b[0m\u001b[0;34m.\u001b[0m\u001b[0mpredict\u001b[0m\u001b[0;34m(\u001b[0m\u001b[0mX_test\u001b[0m\u001b[0;34m)\u001b[0m\u001b[0;34m\u001b[0m\u001b[0;34m\u001b[0m\u001b[0m\n\u001b[1;32m     15\u001b[0m \u001b[0mprint\u001b[0m\u001b[0;34m(\u001b[0m\u001b[0my_pred\u001b[0m\u001b[0;34m)\u001b[0m\u001b[0;34m\u001b[0m\u001b[0;34m\u001b[0m\u001b[0m\n",
            "\u001b[0;31mNameError\u001b[0m: name 'X_train' is not defined"
          ]
        }
      ]
    },
    {
      "cell_type": "markdown",
      "source": [
        "\n",
        "\n",
        "---\n",
        "\n"
      ],
      "metadata": {
        "id": "hk0YuviUQ9bn"
      }
    },
    {
      "cell_type": "markdown",
      "source": [
        "**20. What are continuous and categorical variables?**\n",
        "\n",
        "**Answer:**\n",
        "\n",
        " In data science and machine learning, variables are typically classified as either continuous or categorical, depending on the type of data they represent.\n",
        "\n",
        "1.Continuous Variables\n",
        "These are numeric variables that can take any value within a range, including decimals.\n",
        "\n",
        "**Characteristics:**\n",
        "\n",
        "Infinite possible values (within limits)\n",
        "\n",
        "Can be measured, not just counted.\n",
        "\n",
        "**2. Categorical Variables**\n",
        "\n",
        "These represent categories or groups. They have a limited number of values, usually labels or names.\n",
        "\n",
        "**Characteristics:**\n",
        "Discrete values\n",
        "\n",
        "Cannot perform math operations directly (like average, sum)"
      ],
      "metadata": {
        "id": "rjo5VG4PRIAj"
      }
    },
    {
      "cell_type": "markdown",
      "source": [
        "\n",
        "\n",
        "---\n",
        "\n"
      ],
      "metadata": {
        "id": "f2UU-lZWTQYR"
      }
    },
    {
      "cell_type": "markdown",
      "source": [
        "**21. What is feature scaling? How does it help in Machine Learning?**\n",
        "\n",
        "Answer:\n",
        "\n",
        "Feature scaling is a technique to standardize or normalize the range of independent variables (features) so they are on a similar scale.\n",
        "\n",
        "Many machine learning algorithms (like SVM, KNN, Gradient Descent, Neural Networks) are sensitive to the scale of the features.\n",
        "\n"
      ],
      "metadata": {
        "id": "iAP8xM7zTou9"
      }
    },
    {
      "cell_type": "code",
      "source": [
        "# Min-Max Scaling (Normalization)\n",
        "\n",
        "from sklearn.preprocessing import MinMaxScaler\n",
        "\n",
        "scaler = MinMaxScaler()\n",
        "X_scaled = scaler.fit_transform(X)\n"
      ],
      "metadata": {
        "id": "h1hQe-CVUaQf"
      },
      "execution_count": null,
      "outputs": []
    },
    {
      "cell_type": "code",
      "source": [
        "# 2. Standardization (Z-score Scaling)\n",
        "\n",
        "from sklearn.preprocessing import StandardScaler\n",
        "\n",
        "scaler = StandardScaler()\n",
        "X_scaled = scaler.fit_transform(X)\n"
      ],
      "metadata": {
        "id": "xBXXzI4HUjFI"
      },
      "execution_count": null,
      "outputs": []
    },
    {
      "cell_type": "code",
      "source": [
        "# 3. Robust Scaling\n",
        "\n",
        "from sklearn.preprocessing import RobustScaler\n",
        "\n",
        "scaler = RobustScaler()\n",
        "X_scaled = scaler.fit_transform(X)\n"
      ],
      "metadata": {
        "id": "Dzi0exppUsHY"
      },
      "execution_count": null,
      "outputs": []
    },
    {
      "cell_type": "markdown",
      "source": [
        "\n",
        "\n",
        "---\n",
        "\n"
      ],
      "metadata": {
        "id": "3CdwD2fdU7w3"
      }
    },
    {
      "cell_type": "markdown",
      "source": [
        "**22. How do we perform scaling in Python?**\n",
        "\n",
        "**Answer:**\n",
        "\n",
        "You can perform feature scaling in Python using Scikit-learn's preprocessing module, which provides several scalers like StandardScaler, MinMaxScaler, and others.\n",
        "\n"
      ],
      "metadata": {
        "id": "g44WKMN4VO6i"
      }
    },
    {
      "cell_type": "code",
      "source": [
        "# Step-by-Step: Feature Scaling Using Scikit-learn\n",
        "\n",
        "from sklearn.preprocessing import StandardScaler\n",
        "\n",
        "scaler = StandardScaler()\n",
        "X_scaled = scaler.fit_transform(X)  # X can be a DataFrame or NumPy array\n"
      ],
      "metadata": {
        "id": "43NzWrP8VeUs"
      },
      "execution_count": null,
      "outputs": []
    },
    {
      "cell_type": "code",
      "source": [
        "# 2. Normalization (Min-Max Scaling)\n",
        "\n",
        "from sklearn.preprocessing import MinMaxScaler\n",
        "\n",
        "scaler = MinMaxScaler()\n",
        "X_scaled = scaler.fit_transform(X)\n"
      ],
      "metadata": {
        "id": "ddIX_51_U08I"
      },
      "execution_count": null,
      "outputs": []
    },
    {
      "cell_type": "code",
      "source": [
        "# 3. Robust Scaling (Good for outliers)\n",
        "\n",
        "from sklearn.preprocessing import RobustScaler\n",
        "\n",
        "scaler = RobustScaler()\n",
        "X_scaled = scaler.fit_transform(X)\n"
      ],
      "metadata": {
        "id": "pvVUFW9TVykJ"
      },
      "execution_count": null,
      "outputs": []
    },
    {
      "cell_type": "code",
      "source": [
        "import pandas as pd\n",
        "from sklearn.preprocessing import StandardScaler\n",
        "\n",
        "# Sample data\n",
        "df = pd.DataFrame({\n",
        "    'Age': [25, 45, 35, 50],\n",
        "    'Salary': [30000, 80000, 50000, 100000]\n",
        "})\n",
        "\n",
        "# Apply StandardScaler\n",
        "scaler = StandardScaler()\n",
        "scaled_values = scaler.fit_transform(df)\n",
        "\n",
        "# Create scaled DataFrame\n",
        "df_scaled = pd.DataFrame(scaled_values, columns=df.columns)\n",
        "print(df_scaled)\n"
      ],
      "metadata": {
        "colab": {
          "base_uri": "https://localhost:8080/"
        },
        "id": "E4MlbV40V9Mv",
        "outputId": "449c6505-67ba-45b4-b9a8-ac28d5f58e8c"
      },
      "execution_count": null,
      "outputs": [
        {
          "output_type": "stream",
          "name": "stdout",
          "text": [
            "        Age    Salary\n",
            "0 -1.432078 -1.299867\n",
            "1  0.650945  0.557086\n",
            "2 -0.390567 -0.557086\n",
            "3  1.171700  1.299867\n"
          ]
        }
      ]
    },
    {
      "cell_type": "code",
      "source": [
        "# Save the scaler for transforming test data later\n",
        "scaler = StandardScaler()\n",
        "X_train_scaled = scaler.fit_transform(X_train)\n",
        "X_test_scaled = scaler.transform(X_test)  # Use transform, not fit_transform\n"
      ],
      "metadata": {
        "colab": {
          "base_uri": "https://localhost:8080/",
          "height": 193
        },
        "id": "pxHm3DhRWASA",
        "outputId": "63c20ffb-a3aa-42eb-d40f-600bd9cfa5d6"
      },
      "execution_count": null,
      "outputs": [
        {
          "output_type": "error",
          "ename": "NameError",
          "evalue": "name 'X_train' is not defined",
          "traceback": [
            "\u001b[0;31m---------------------------------------------------------------------------\u001b[0m",
            "\u001b[0;31mNameError\u001b[0m                                 Traceback (most recent call last)",
            "\u001b[0;32m/tmp/ipython-input-39-1006354426.py\u001b[0m in \u001b[0;36m<cell line: 0>\u001b[0;34m()\u001b[0m\n\u001b[1;32m      1\u001b[0m \u001b[0;31m# Save the scaler for transforming test data later\u001b[0m\u001b[0;34m\u001b[0m\u001b[0;34m\u001b[0m\u001b[0m\n\u001b[1;32m      2\u001b[0m \u001b[0mscaler\u001b[0m \u001b[0;34m=\u001b[0m \u001b[0mStandardScaler\u001b[0m\u001b[0;34m(\u001b[0m\u001b[0;34m)\u001b[0m\u001b[0;34m\u001b[0m\u001b[0;34m\u001b[0m\u001b[0m\n\u001b[0;32m----> 3\u001b[0;31m \u001b[0mX_train_scaled\u001b[0m \u001b[0;34m=\u001b[0m \u001b[0mscaler\u001b[0m\u001b[0;34m.\u001b[0m\u001b[0mfit_transform\u001b[0m\u001b[0;34m(\u001b[0m\u001b[0mX_train\u001b[0m\u001b[0;34m)\u001b[0m\u001b[0;34m\u001b[0m\u001b[0;34m\u001b[0m\u001b[0m\n\u001b[0m\u001b[1;32m      4\u001b[0m \u001b[0mX_test_scaled\u001b[0m \u001b[0;34m=\u001b[0m \u001b[0mscaler\u001b[0m\u001b[0;34m.\u001b[0m\u001b[0mtransform\u001b[0m\u001b[0;34m(\u001b[0m\u001b[0mX_test\u001b[0m\u001b[0;34m)\u001b[0m  \u001b[0;31m# Use transform, not fit_transform\u001b[0m\u001b[0;34m\u001b[0m\u001b[0;34m\u001b[0m\u001b[0m\n",
            "\u001b[0;31mNameError\u001b[0m: name 'X_train' is not defined"
          ]
        }
      ]
    },
    {
      "cell_type": "markdown",
      "source": [
        "\n",
        "\n",
        "---\n",
        "\n"
      ],
      "metadata": {
        "id": "J8BoCYi0GPoH"
      }
    },
    {
      "cell_type": "markdown",
      "source": [
        "**24. How do we split data for model fitting (training and testing) in Python?**\n",
        "\n",
        "**Answer:**\n",
        "\n",
        " In machine learning, we split our dataset into:\n",
        "\n",
        "Training set: used to train the model.\n",
        "\n",
        "Test set: used to evaluate model performance on unseen data.\n",
        "\n"
      ],
      "metadata": {
        "id": "Q0k4vQYVGTnc"
      }
    },
    {
      "cell_type": "code",
      "source": [
        "from sklearn.model_selection import train_test_split\n",
        "import pandas as pd\n",
        "\n",
        "# Sample dataset\n",
        "df = pd.DataFrame({\n",
        "    'Feature1': [1, 2, 3, 4, 5],\n",
        "    'Feature2': [10, 20, 30, 40, 50],\n",
        "    'Target':   [0, 1, 0, 1, 0]\n",
        "})\n",
        "\n",
        "# Separate features (X) and target (y)\n",
        "X = df[['Feature1', 'Feature2']]\n",
        "y = df['Target']\n",
        "\n",
        "# Split into training and testing sets (80% train, 20% test)\n",
        "X_train, X_test, y_train, y_test = train_test_split(X, y, test_size=0.2, random_state=42)\n"
      ],
      "metadata": {
        "id": "O4ZxZl1PHt79"
      },
      "execution_count": null,
      "outputs": []
    },
    {
      "cell_type": "markdown",
      "source": [
        "\n",
        "\n",
        "---\n",
        "\n"
      ],
      "metadata": {
        "id": "4kuuP__xIqhi"
      }
    },
    {
      "cell_type": "markdown",
      "source": [
        "**25. Explain data encoding?**\n",
        "\n",
        "**Answer:**  \n",
        "\n",
        "Data encoding is the process of converting data into a specific format that can be efficiently stored, transmitted, or interpreted by systems or algorithms. It is essential in both computing and data science to ensure compatibility and usability of information.\n",
        "\n",
        ". Computers only understand binary (0s and 1s), so all data—text, images, audio—must be encoded into binary.\n",
        "\n",
        ". In machine learning, models need numerical inputs, so categorical (non-numeric) data must be encoded into numbers.\n",
        "\n",
        "**Types of Data Encoding**\n",
        "\n",
        "**1. Character Encoding (in Computing)**\n",
        "\n",
        "Used to represent text in binary.\n",
        "\n",
        "**Examples:** ASCII, UTF-8, Unicode\n",
        "\n",
        "\n",
        "Data encoding helps translate data into formats understandable by computers or algorithms.\n",
        "\n",
        "**It is critical for:**\n",
        "\n",
        "Data storage\n",
        "\n",
        "Communication between systems\n",
        "\n",
        "Training machine learning models\n",
        "\n"
      ],
      "metadata": {
        "id": "J3Z4fspZIsSi"
      }
    },
    {
      "cell_type": "markdown",
      "source": [
        "\n",
        "\n",
        "---\n",
        "\n"
      ],
      "metadata": {
        "id": "f6kmfeH8Q_Zm"
      }
    },
    {
      "cell_type": "markdown",
      "source": [],
      "metadata": {
        "id": "URVupmNBOD3Y"
      }
    },
    {
      "cell_type": "markdown",
      "source": [],
      "metadata": {
        "id": "yjkeaBjNN4ES"
      }
    },
    {
      "cell_type": "code",
      "source": [],
      "metadata": {
        "id": "g4diqeOiJl5S"
      },
      "execution_count": null,
      "outputs": []
    },
    {
      "cell_type": "code",
      "source": [],
      "metadata": {
        "id": "0Co5th9RHw-f"
      },
      "execution_count": null,
      "outputs": []
    }
  ]
}